{
 "cells": [
  {
   "cell_type": "markdown",
   "metadata": {},
   "source": [
    "## Short-term load-forecasting and Cross-Validation Demo"
   ]
  },
  {
   "cell_type": "code",
   "execution_count": 39,
   "metadata": {
    "collapsed": false
   },
   "outputs": [],
   "source": [
    "import pandas as pd\n",
    "import numpy as np\n",
    "import matplotlib.pyplot as plt\n",
    "from metric_funcs import mape\n",
    "from sklearn.metrics import mean_squared_error as mse\n",
    "from forecaster import Forecaster as FC\n",
    "%matplotlib inline"
   ]
  },
  {
   "cell_type": "markdown",
   "metadata": {},
   "source": [
    "#### A crucial step in building this model is to define an appropiate cross validation methodology to fine tune it.\n",
    "\n",
    "Within conventional libraries I couldn't find a cv-methodology that fitted this idea of training multiple independent models at a given time-resolution so I built one (sklearn library does have one although the methodology is different; it aggregates the training data from but the k-sample to k+1 sample,  as opposed to partitioning equally spaced models).\n",
    "\n",
    "In this case I strive for independent models to avoid training long term trends and seasonalities; __my hypothesis is  that short-term forecasting is more correlated to closer past intervals__ (ie. hours before forecast, 1 day before, 1 week before). In any case, I believe we could test this hypothesis through cross-validation and improve the outcome.\n",
    "\n",
    "How the implement cross-validation works:\n",
    "\n",
    "1) Partitions the training set into n tasks given a user-defined resolution to resample the training data (ex. '1W', '3W', '1Y') -- __Its like defining k-folds but instead of k-splits, you provide a time split__.\n",
    "\n",
    "2) Under the hood it resamples the dataset, retrieves indices and generates n-tasks with equal size. \n",
    "\n",
    "3) Then trains-tests on each sample to get a score (in this case I chose MSE from sklearn library).\n",
    "\n",
    "Note: The last day in each task is used to test that sample as well as to train the next task."
   ]
  },
  {
   "cell_type": "markdown",
   "metadata": {},
   "source": [
    "#### 1) Load dataset."
   ]
  },
  {
   "cell_type": "code",
   "execution_count": 40,
   "metadata": {
    "collapsed": false
   },
   "outputs": [],
   "source": [
    "forecaster = FC('../data/train_cleaned.csv')"
   ]
  },
  {
   "cell_type": "markdown",
   "metadata": {},
   "source": [
    "#### 2) Use cross-val method which takes:\n",
    "\n",
    "a) an error function to evaluate the testing, b) resampling resolution (spliting) and, c) parameters to initialize the RF Regressor."
   ]
  },
  {
   "cell_type": "code",
   "execution_count": 41,
   "metadata": {
    "collapsed": false
   },
   "outputs": [
    {
     "name": "stdout",
     "output_type": "stream",
     "text": [
      "Mape scores:  [8.733619782424094, 6.557545639293015, 6.123784267677421, 8.10295064974378, 17.388288443982752]\n"
     ]
    }
   ],
   "source": [
    "print 'Mape scores: ', forecaster.cross_val(mape, '3W', n_estimators = 10, max_features=4)[:5]"
   ]
  },
  {
   "cell_type": "markdown",
   "metadata": {},
   "source": [
    "This method returns a list of forecasting errors where each represents a 1-day forecast at a 15-min interval horizon.\n",
    "\n",
    "As the result shows, the model is performing relatively poor but we can consider this as a benchmark model. \n",
    "The __next natural steps would be to tune and find the best set of parameters, features, training times__, etc."
   ]
  },
  {
   "cell_type": "markdown",
   "metadata": {},
   "source": [
    "#### 3) To illustrate this process, lets plot MSE vs. a varying parameter (ie. number of trees, max random parameters per split or training time per task); for this example I will vary the training time on each task."
   ]
  },
  {
   "cell_type": "code",
   "execution_count": 95,
   "metadata": {
    "collapsed": false
   },
   "outputs": [],
   "source": [
    "# Tuning for training time\n",
    "\n",
    "def tuning(res = '3M'):\n",
    "    '''\n",
    "    Tune parameters\n",
    "    \n",
    "    Params\n",
    "    ------\n",
    "    res: str\n",
    "        Resolution to resample dataset.\n",
    "    features: int\n",
    "        num of max_features parameter to cross-validate.\n",
    "        \n",
    "    Return\n",
    "    ------\n",
    "    Plot MSE vs. variable\n",
    "    '''\n",
    "\n",
    "    error = [] \n",
    "\n",
    "    for res in resolutions:\n",
    "        # Compute the mean MSE.\n",
    "        RF_e = np.array(forecaster.cross_val(mse, res, max_features = 3))\n",
    "        error.append(np.median(RF_e))\n",
    "        \n",
    "    return error"
   ]
  },
  {
   "cell_type": "code",
   "execution_count": 113,
   "metadata": {
    "collapsed": false
   },
   "outputs": [
    {
     "data": {
      "text/plain": [
       "<matplotlib.text.Text at 0x11f9b7110>"
      ]
     },
     "execution_count": 113,
     "metadata": {},
     "output_type": "execute_result"
    },
    {
     "data": {
      "image/png": "[encoded data removed]",
      "text/plain": [
       "<matplotlib.figure.Figure at 0x11c80ab10>"
      ]
     },
     "metadata": {},
     "output_type": "display_data"
    }
   ],
   "source": [
    "# Plot MSE vs. training time.\n",
    "fig = plt.figure(figsize=(8,4))\n",
    "ax = fig.add_subplot(1,1,1)\n",
    "resolutions = ['1W','2W','3W','4W','5W','6W', '7W', '8W', '9W', '10W']\n",
    "x = np.linspace(1,len(resolutions), len(resolutions))\n",
    "ax.plot(x, tuning(resolutions), label = 'MSE')\n",
    "ax.set_ylabel('MSE')\n",
    "ax.set_xlabel('Training Weeks')\n",
    "ax.set_title('Tuning training period per task')"
   ]
  },
  {
   "cell_type": "markdown",
   "metadata": {},
   "source": [
    "### The model error seems to stabilize at around 5-6 weeks of training, this is a good starting point..."
   ]
  }
 ],
 "metadata": {
  "anaconda-cloud": {},
  "kernelspec": {
   "display_name": "Python [Root]",
   "language": "python",
   "name": "Python [Root]"
  },
  "language_info": {
   "codemirror_mode": {
    "name": "ipython",
    "version": 2
   },
   "file_extension": ".py",
   "mimetype": "text/x-python",
   "name": "python",
   "nbconvert_exporter": "python",
   "pygments_lexer": "ipython2",
   "version": "2.7.12"
  }
 },
 "nbformat": 4,
 "nbformat_minor": 0
}
